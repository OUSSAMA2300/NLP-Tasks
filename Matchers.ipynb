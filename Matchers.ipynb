{
  "nbformat": 4,
  "nbformat_minor": 0,
  "metadata": {
    "colab": {
      "provenance": [],
      "authorship_tag": "ABX9TyMrqEsXaTfje4hNetp+7kZ9",
      "include_colab_link": true
    },
    "kernelspec": {
      "name": "python3",
      "display_name": "Python 3"
    },
    "language_info": {
      "name": "python"
    }
  },
  "cells": [
    {
      "cell_type": "markdown",
      "metadata": {
        "id": "view-in-github",
        "colab_type": "text"
      },
      "source": [
        "<a href=\"https://colab.research.google.com/github/OUSSAMA2300/NLP-Tasks/blob/main/Matchers.ipynb\" target=\"_parent\"><img src=\"https://colab.research.google.com/assets/colab-badge.svg\" alt=\"Open In Colab\"/></a>"
      ]
    },
    {
      "cell_type": "code",
      "execution_count": null,
      "metadata": {
        "id": "QOinaHrNvRMI"
      },
      "outputs": [],
      "source": [
        "import spacy\n",
        "nlp = spacy.load(\"en_core_web_sm\")\n",
        "from spacy.matcher import Matcher\n",
        "matcher = Matcher(nlp.vocab)\n"
      ]
    },
    {
      "cell_type": "code",
      "source": [
        "pattern1 = [{\"LOWER\": \"solarpower\"}]\n",
        "pattern2 = [{\"LOWER\": \"solar\"}, {\"LOWER\": \"power\"}]\n",
        "pattern3 = [{\"LOWER\": \"solar\"}, {\"IS_PUNCT\": True}, {\"LOWER\": \"power\"}]\n",
        "matcher.add(\"SolarPower\", [pattern1, pattern2, pattern3])"
      ],
      "metadata": {
        "id": "Ngk-7i345z8C"
      },
      "execution_count": null,
      "outputs": []
    },
    {
      "cell_type": "code",
      "source": [
        "doc = nlp(u\"The Solar Power industry continues to grow as demand \\\n",
        "for solarpower increases. Solar--power cars are gaining popularity.\")\n",
        "\n",
        "fonnd_mathcers = matcher(doc)\n",
        "for a, b, c in fonnd_mathcers:\n",
        "    print(f'Word ID {a} , Starts at {b}, and ends at {c} , and word is {doc[b:c]}')"
      ],
      "metadata": {
        "colab": {
          "base_uri": "https://localhost:8080/"
        },
        "id": "upkvZs_C696y",
        "outputId": "9a26a4ae-4a04-4dfe-8d71-8da926c93578"
      },
      "execution_count": null,
      "outputs": [
        {
          "output_type": "stream",
          "name": "stdout",
          "text": [
            "Word ID 8656102463236116519 , Starts at 1, and ends at 3 , and word is Solar Power\n",
            "Word ID 8656102463236116519 , Starts at 10, and ends at 11 , and word is solarpower\n",
            "Word ID 8656102463236116519 , Starts at 13, and ends at 16 , and word is Solar--power\n"
          ]
        }
      ]
    },
    {
      "cell_type": "code",
      "source": [
        "matcher.remove('SolarPower')"
      ],
      "metadata": {
        "id": "omAKPehxCTTi"
      },
      "execution_count": null,
      "outputs": []
    },
    {
      "cell_type": "code",
      "source": [
        "pattern1 = [{\"LOWER\": \"solarpower\"}]\n",
        "pattern2 = [{\"LOWER\": \"solar\"}, {\"IS_PUNCT\": True, \"OP\":\"*\"}, {\"LOWER\": \"power\"}] # ! ? + OP\n",
        "pattern3 = [{\"LOWER\": \"solarpowered\"}]\n",
        "pattern4 = [{\"LOWER\": \"solar\"}, {\"IS_PUNCT\": True, \"OP\":\"*\"}, {\"LOWER\": \"powered\"}]\n",
        "matcher.add(\"SolarPower\", [pattern1, pattern2, pattern3, pattern4])"
      ],
      "metadata": {
        "id": "SnGV-yW5DBTU"
      },
      "execution_count": null,
      "outputs": []
    },
    {
      "cell_type": "code",
      "source": [
        "fonnd_mathcers = matcher(doc)\n",
        "for a, b, c in fonnd_mathcers:\n",
        "    print(f'Word ID {a} , Starts at {b}, and ends at {c} , and word is {doc[b-3:c+3]}')"
      ],
      "metadata": {
        "colab": {
          "base_uri": "https://localhost:8080/"
        },
        "id": "M159NaQcHXEP",
        "outputId": "7b03a252-35e6-4119-a9bd-132f5ba0d1d6"
      },
      "execution_count": null,
      "outputs": [
        {
          "output_type": "stream",
          "name": "stdout",
          "text": [
            "Word ID 8656102463236116519 , Starts at 1, and ends at 3 , and word is \n",
            "Word ID 8656102463236116519 , Starts at 10, and ends at 11 , and word is as demand for solarpower increases. Solar\n",
            "Word ID 8656102463236116519 , Starts at 13, and ends at 16 , and word is solarpower increases. Solar--power cars are gaining\n"
          ]
        }
      ]
    },
    {
      "cell_type": "code",
      "source": [
        "from spacy.matcher import PhraseMatcher\n",
        "phrase_matcher = PhraseMatcher(nlp.vocab)"
      ],
      "metadata": {
        "id": "4DPiSbrxIT0P"
      },
      "execution_count": null,
      "outputs": []
    },
    {
      "cell_type": "code",
      "source": [
        "with open('reagnomics.txt') as f:\n",
        "    doc3 = nlp(f.read())"
      ],
      "metadata": {
        "colab": {
          "base_uri": "https://localhost:8080/"
        },
        "id": "uD9l9Y5YI4P9",
        "outputId": "1fc82303-bde2-468a-f538-2514a485bda3"
      },
      "execution_count": null,
      "outputs": [
        {
          "output_type": "error",
          "ename": "FileNotFoundError",
          "evalue": "[Errno 2] No such file or directory: 'reagnomics.txt'",
          "traceback": [
            "\u001b[0;31m---------------------------------------------------------------------------\u001b[0m",
            "\u001b[0;31mFileNotFoundError\u001b[0m                         Traceback (most recent call last)",
            "\u001b[0;32m<ipython-input-8-bb822bdbb01f>\u001b[0m in \u001b[0;36m<cell line: 1>\u001b[0;34m()\u001b[0m\n\u001b[0;32m----> 1\u001b[0;31m \u001b[0;32mwith\u001b[0m \u001b[0mopen\u001b[0m\u001b[0;34m(\u001b[0m\u001b[0;34m'reagnomics.txt'\u001b[0m\u001b[0;34m)\u001b[0m \u001b[0;32mas\u001b[0m \u001b[0mf\u001b[0m\u001b[0;34m:\u001b[0m\u001b[0;34m\u001b[0m\u001b[0;34m\u001b[0m\u001b[0m\n\u001b[0m\u001b[1;32m      2\u001b[0m     \u001b[0mdoc3\u001b[0m \u001b[0;34m=\u001b[0m \u001b[0mnlp\u001b[0m\u001b[0;34m(\u001b[0m\u001b[0mf\u001b[0m\u001b[0;34m.\u001b[0m\u001b[0mread\u001b[0m\u001b[0;34m(\u001b[0m\u001b[0;34m)\u001b[0m\u001b[0;34m)\u001b[0m\u001b[0;34m\u001b[0m\u001b[0;34m\u001b[0m\u001b[0m\n",
            "\u001b[0;31mFileNotFoundError\u001b[0m: [Errno 2] No such file or directory: 'reagnomics.txt'"
          ]
        }
      ]
    }
  ]
}