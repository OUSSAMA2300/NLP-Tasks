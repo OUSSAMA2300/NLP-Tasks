{
  "nbformat": 4,
  "nbformat_minor": 0,
  "metadata": {
    "colab": {
      "provenance": [],
      "authorship_tag": "ABX9TyPUcq0VmqvPbqb5kVLDPKjc",
      "include_colab_link": true
    },
    "kernelspec": {
      "name": "python3",
      "display_name": "Python 3"
    },
    "language_info": {
      "name": "python"
    }
  },
  "cells": [
    {
      "cell_type": "markdown",
      "metadata": {
        "id": "view-in-github",
        "colab_type": "text"
      },
      "source": [
        "<a href=\"https://colab.research.google.com/github/OUSSAMA2300/NLP-Tasks/blob/main/StopWrods.ipynb\" target=\"_parent\"><img src=\"https://colab.research.google.com/assets/colab-badge.svg\" alt=\"Open In Colab\"/></a>"
      ]
    },
    {
      "cell_type": "code",
      "execution_count": null,
      "metadata": {
        "colab": {
          "base_uri": "https://localhost:8080/"
        },
        "id": "p-A_UMJjg1ot",
        "outputId": "c002df13-072f-46fb-fd07-65777916af79"
      },
      "outputs": [
        {
          "output_type": "stream",
          "name": "stdout",
          "text": [
            "{'the', 'six', 'you', 'when', 'beyond', 'must', 'quite', 'through', 'every', 'some', 'everyone', 'many', 'although', 'give', 'hundred', 'yourselves', 'yourself', 'from', 'twelve', 'amount', 'so', 'everything', 'on', 'these', 'least', 'seeming', 'nowhere', 'wherein', 'former', 'has', 'both', 'meanwhile', 'me', 'hereafter', 'their', 'whom', 'part', 'indeed', 'have', 'become', 'eight', 'still', '‘m', 'too', 'something', \"n't\", 'that', 'various', 'yet', 'get', 'whatever', 'noone', 'several', 'less', 'fifteen', 'hereupon', 'formerly', 'itself', 'two', 'four', 'why', 'seems', 'somewhere', 'enough', 'besides', 'ten', 'between', 'together', 'forty', 'onto', 'wherever', 'here', 'becoming', 'third', 'used', 'more', 'n’t', 'hence', 'your', '’m', 'should', 'as', \"'re\", 'can', 'a', 'only', 'among', 'sometime', 'further', 'please', 'would', 'also', 'alone', 'elsewhere', 'made', 'could', 'twenty', 'after', '’d', 'amongst', 'ourselves', 'side', '’s', 'an', 'himself', 'him', 'against', 'now', 'one', 'nevertheless', 'upon', 'ever', 'myself', 'towards', 'neither', 'due', 'those', '’re', 'few', 'thereafter', 'afterwards', 'except', 'under', 'else', 'rather', 'where', 'show', \"'s\", 'became', 'very', 'than', 'either', '‘d', 'three', 'own', 'whereafter', 'within', 'my', 'someone', 'just', 'back', 'whereas', 'its', 'across', 'toward', 'ca', 'she', 'other', 'move', 'anyhow', 'anyone', 'all', 'ours', 'whither', 'again', 'per', 'never', 'first', 'take', 'serious', 'another', 'anyway', 'front', 'otherwise', 'latterly', 'i', 'was', '’ll', '‘ll', 'not', 'full', 'by', 'somehow', 'thereby', 'this', 'mine', 'eleven', 'her', 'been', 'themselves', 'moreover', 'they', 'nothing', 'others', 'see', 'doing', 'what', 'throughout', 'whereupon', 'whoever', 'nor', 'make', \"'ll\", 'which', 'off', \"'d\", 'regarding', 'thru', 'will', 'until', 'along', 'are', 'with', 'had', 'though', 'for', 'none', 'before', 'his', 'everywhere', 'really', 'say', 'whether', 'did', 'herein', 'or', 'n‘t', 'because', 'at', 'name', 'beside', 'is', 'next', 'hereby', 'go', 'bottom', 'using', 'nobody', 'thereupon', 'almost', 'unless', 'however', 'anything', 'our', 'mostly', 'were', 'anywhere', 'might', 'it', \"'ve\", 'during', 'hers', 'whenever', 'most', 'up', 'often', 'namely', 'while', 'seemed', 'always', 'about', 'fifty', 'same', 'top', 'cannot', 'call', 'if', '‘re', 'being', 'nine', 'out', 'am', 'thus', 'how', 'last', '‘s', 'becomes', 'behind', 're', 'into', 'sixty', '’ve', 'and', 'beforehand', 'them', 'over', 'does', '‘ve', 'there', 'herself', 'keep', 'he', 'via', 'then', 'already', 'such', 'who', 'well', 'may', 'any', 'do', 'put', 'much', 'in', 'without', 'around', 'therein', 'latter', 'above', 'sometimes', 'of', 'since', 'whose', 'thence', 'we', 'yours', 'but', 'whole', 'even', 'done', 'once', 'no', \"'m\", 'whence', 'whereby', 'each', 'to', 'perhaps', 'be', 'therefore', 'us', 'five', 'seem', 'down', 'below', 'empty'}\n"
          ]
        }
      ],
      "source": [
        "import spacy\n",
        "nlp = spacy.load('en_core_web_sm')\n",
        "\n",
        "print(nlp.Defaults.stop_words)"
      ]
    },
    {
      "cell_type": "code",
      "source": [
        "nlp.vocab['myself'].is_stop"
      ],
      "metadata": {
        "colab": {
          "base_uri": "https://localhost:8080/"
        },
        "id": "SIh3FwpNp_HW",
        "outputId": "aa1dfd6d-965b-4e12-af54-506a1ab95701"
      },
      "execution_count": null,
      "outputs": [
        {
          "output_type": "execute_result",
          "data": {
            "text/plain": [
              "True"
            ]
          },
          "metadata": {},
          "execution_count": 22
        }
      ]
    },
    {
      "cell_type": "code",
      "source": [
        "nlp.vocab['mystery'].is_stop"
      ],
      "metadata": {
        "colab": {
          "base_uri": "https://localhost:8080/"
        },
        "id": "21i-1F-yrKK2",
        "outputId": "70ef594b-4bc1-41fc-a9a9-e011b66110e5"
      },
      "execution_count": null,
      "outputs": [
        {
          "output_type": "execute_result",
          "data": {
            "text/plain": [
              "False"
            ]
          },
          "metadata": {},
          "execution_count": 23
        }
      ]
    },
    {
      "cell_type": "code",
      "source": [
        "nlp.vocab['btw'].is_stop"
      ],
      "metadata": {
        "colab": {
          "base_uri": "https://localhost:8080/"
        },
        "id": "BcqnLP4Srx89",
        "outputId": "bd8949b2-e3c0-43b0-a86a-73813e211c27"
      },
      "execution_count": null,
      "outputs": [
        {
          "output_type": "execute_result",
          "data": {
            "text/plain": [
              "False"
            ]
          },
          "metadata": {},
          "execution_count": 24
        }
      ]
    },
    {
      "cell_type": "code",
      "source": [
        "nlp.Defaults.stop_words.add('btw')\n",
        "nlp.vocab['btw'].is_stop = True"
      ],
      "metadata": {
        "id": "8ywq3GRMQYC0"
      },
      "execution_count": null,
      "outputs": []
    },
    {
      "cell_type": "code",
      "source": [
        "nlp.vocab['btw'].is_stop"
      ],
      "metadata": {
        "colab": {
          "base_uri": "https://localhost:8080/"
        },
        "id": "D5AVDnVQQnct",
        "outputId": "89dafcb2-4201-42b0-9d48-b4426bec25ae"
      },
      "execution_count": null,
      "outputs": [
        {
          "output_type": "execute_result",
          "data": {
            "text/plain": [
              "True"
            ]
          },
          "metadata": {},
          "execution_count": 26
        }
      ]
    },
    {
      "cell_type": "code",
      "source": [
        "nlp.Defaults.stop_words.remove('beyond')\n",
        "nlp.vocab['beyond'].is_stop = False"
      ],
      "metadata": {
        "id": "y_nBxGfvQpUV"
      },
      "execution_count": null,
      "outputs": []
    },
    {
      "cell_type": "code",
      "source": [
        "nlp.vocab['beyond'].is_stop"
      ],
      "metadata": {
        "colab": {
          "base_uri": "https://localhost:8080/"
        },
        "id": "5uMbuukHSnV0",
        "outputId": "388b8408-9651-47a1-b42e-3aebb51efcec"
      },
      "execution_count": null,
      "outputs": [
        {
          "output_type": "execute_result",
          "data": {
            "text/plain": [
              "False"
            ]
          },
          "metadata": {},
          "execution_count": 29
        }
      ]
    },
    {
      "cell_type": "code",
      "source": [
        "import nltk\n",
        "nltk.download('stopwords')\n",
        "nltk.download('punkt')\n"
      ],
      "metadata": {
        "colab": {
          "base_uri": "https://localhost:8080/"
        },
        "id": "8CvfaIueTHRN",
        "outputId": "9e67734b-c7d7-46bb-b30f-564f7a441651"
      },
      "execution_count": null,
      "outputs": [
        {
          "output_type": "stream",
          "name": "stderr",
          "text": [
            "[nltk_data] Downloading package stopwords to /root/nltk_data...\n",
            "[nltk_data]   Package stopwords is already up-to-date!\n",
            "[nltk_data] Downloading package punkt to /root/nltk_data...\n",
            "[nltk_data]   Unzipping tokenizers/punkt.zip.\n"
          ]
        },
        {
          "output_type": "execute_result",
          "data": {
            "text/plain": [
              "True"
            ]
          },
          "metadata": {},
          "execution_count": 42
        }
      ]
    },
    {
      "cell_type": "code",
      "source": [
        "from nltk.corpus import stopwords\n",
        "from nltk.tokenize import word_tokenize\n",
        "\n",
        "\n",
        "stop_words = stopwords.words('english')\n",
        "print(len(stop_words))\n",
        "stop_words[:10]"
      ],
      "metadata": {
        "colab": {
          "base_uri": "https://localhost:8080/"
        },
        "id": "PtFHiO-EUDE3",
        "outputId": "87b92f58-de6c-494f-9812-7121bcb6fdd4"
      },
      "execution_count": null,
      "outputs": [
        {
          "output_type": "stream",
          "name": "stdout",
          "text": [
            "179\n"
          ]
        },
        {
          "output_type": "execute_result",
          "data": {
            "text/plain": [
              "['i', 'me', 'my', 'myself', 'we', 'our', 'ours', 'ourselves', 'you', \"you're\"]"
            ]
          },
          "metadata": {},
          "execution_count": 34
        }
      ]
    },
    {
      "cell_type": "code",
      "source": [
        "sent = 'This is a sample sentence, showing off the stop words filtration.'\n",
        "word_tokens = word_tokenize(sent)\n",
        "print(word_tokens)"
      ],
      "metadata": {
        "colab": {
          "base_uri": "https://localhost:8080/"
        },
        "id": "nCR2rdk8UKzv",
        "outputId": "5724a1e3-8f7e-4723-8b3c-12342f96c870"
      },
      "execution_count": null,
      "outputs": [
        {
          "output_type": "stream",
          "name": "stdout",
          "text": [
            "['This', 'is', 'a', 'sample', 'sentence', ',', 'showing', 'off', 'the', 'stop', 'words', 'filtration', '.']\n"
          ]
        }
      ]
    },
    {
      "cell_type": "code",
      "source": [
        "filtered_sent = [w for w in word_tokens if not w in stop_words]\n",
        "\n",
        "print(word_tokens)\n",
        "print('\\n')\n",
        "print(filtered_sent)"
      ],
      "metadata": {
        "colab": {
          "base_uri": "https://localhost:8080/"
        },
        "id": "w_Nucz1-U7vC",
        "outputId": "4945655f-542f-40ec-c36b-e3c4179c9392"
      },
      "execution_count": null,
      "outputs": [
        {
          "output_type": "stream",
          "name": "stdout",
          "text": [
            "['This', 'is', 'a', 'sample', 'sentence', ',', 'showing', 'off', 'the', 'stop', 'words', 'filtration', '.']\n",
            "\n",
            "\n",
            "['This', 'sample', 'sentence', ',', 'showing', 'stop', 'words', 'filtration', '.']\n"
          ]
        }
      ]
    },
    {
      "cell_type": "code",
      "source": [
        "filtered_sent = [w for w in word_tokens if not w.lower() in stop_words]\n",
        "\n",
        "print(word_tokens)\n",
        "print('\\n')\n",
        "print(filtered_sent)"
      ],
      "metadata": {
        "colab": {
          "base_uri": "https://localhost:8080/"
        },
        "id": "RTDUzockU3tH",
        "outputId": "0b8310a4-08a1-4901-ac83-45d4082d57ab"
      },
      "execution_count": null,
      "outputs": [
        {
          "output_type": "stream",
          "name": "stdout",
          "text": [
            "['This', 'is', 'a', 'sample', 'sentence', ',', 'showing', 'off', 'the', 'stop', 'words', 'filtration', '.']\n",
            "\n",
            "\n",
            "['sample', 'sentence', ',', 'showing', 'stop', 'words', 'filtration', '.']\n"
          ]
        }
      ]
    },
    {
      "cell_type": "code",
      "source": [
        "ar_sw1 = stopwords.words('arabic')\n",
        "print(len(ar_sw1))\n",
        "ar_sw1[:10]"
      ],
      "metadata": {
        "colab": {
          "base_uri": "https://localhost:8080/"
        },
        "id": "4XdG8wc_WIFK",
        "outputId": "3cb14ec1-0239-49a8-a8c4-ac3dd8d70a75"
      },
      "execution_count": null,
      "outputs": [
        {
          "output_type": "stream",
          "name": "stdout",
          "text": [
            "754\n"
          ]
        },
        {
          "output_type": "execute_result",
          "data": {
            "text/plain": [
              "['إذ', 'إذا', 'إذما', 'إذن', 'أف', 'أقل', 'أكثر', 'ألا', 'إلا', 'التي']"
            ]
          },
          "metadata": {},
          "execution_count": 47
        }
      ]
    },
    {
      "cell_type": "code",
      "source": [
        "! pip install Arabic-Stopwords\n",
        "\n",
        "\n"
      ],
      "metadata": {
        "colab": {
          "base_uri": "https://localhost:8080/"
        },
        "id": "VWiC_cB_bwwg",
        "outputId": "97265dac-1048-4450-f0f7-302abe95ad59"
      },
      "execution_count": null,
      "outputs": [
        {
          "output_type": "stream",
          "name": "stdout",
          "text": [
            "Collecting Arabic-Stopwords\n",
            "  Downloading Arabic_Stopwords-0.4.3-py3-none-any.whl.metadata (8.9 kB)\n",
            "Collecting pyarabic>=0.6.2 (from Arabic-Stopwords)\n",
            "  Downloading PyArabic-0.6.15-py3-none-any.whl.metadata (10 kB)\n",
            "Requirement already satisfied: six>=1.14.0 in /usr/local/lib/python3.10/dist-packages (from pyarabic>=0.6.2->Arabic-Stopwords) (1.16.0)\n",
            "Downloading Arabic_Stopwords-0.4.3-py3-none-any.whl (360 kB)\n",
            "\u001b[2K   \u001b[90m━━━━━━━━━━━━━━━━━━━━━━━━━━━━━━━━━━━━━━━━\u001b[0m \u001b[32m360.5/360.5 kB\u001b[0m \u001b[31m12.4 MB/s\u001b[0m eta \u001b[36m0:00:00\u001b[0m\n",
            "\u001b[?25hDownloading PyArabic-0.6.15-py3-none-any.whl (126 kB)\n",
            "\u001b[2K   \u001b[90m━━━━━━━━━━━━━━━━━━━━━━━━━━━━━━━━━━━━━━━━\u001b[0m \u001b[32m126.4/126.4 kB\u001b[0m \u001b[31m8.9 MB/s\u001b[0m eta \u001b[36m0:00:00\u001b[0m\n",
            "\u001b[?25hInstalling collected packages: pyarabic, Arabic-Stopwords\n",
            "Successfully installed Arabic-Stopwords-0.4.3 pyarabic-0.6.15\n"
          ]
        }
      ]
    },
    {
      "cell_type": "code",
      "source": [
        "import arabicstopwords.arabicstopwords as stp\n",
        "ar_sw2 = stp.stopwords_list()\n",
        "print(len(ar_sw2))\n",
        "ar_sw2[:10]\n"
      ],
      "metadata": {
        "colab": {
          "base_uri": "https://localhost:8080/"
        },
        "id": "n4Spa8FjcuQe",
        "outputId": "d4ed2adc-ee37-42f8-ab8d-5e97c7ed063f"
      },
      "execution_count": null,
      "outputs": [
        {
          "output_type": "stream",
          "name": "stdout",
          "text": [
            "13465\n"
          ]
        },
        {
          "output_type": "execute_result",
          "data": {
            "text/plain": [
              "['أن', 'أنك', 'أنكما', 'أنكم', 'أنكن', 'أننا', 'أنها', 'أنه', 'أنهما', 'أنهم']"
            ]
          },
          "metadata": {},
          "execution_count": 65
        }
      ]
    },
    {
      "cell_type": "code",
      "source": [
        "stp.is_stop(u'من')"
      ],
      "metadata": {
        "colab": {
          "base_uri": "https://localhost:8080/"
        },
        "id": "KsrH9o1WdNs_",
        "outputId": "0442d529-096a-4903-c43a-035335c03e9d"
      },
      "execution_count": null,
      "outputs": [
        {
          "output_type": "execute_result",
          "data": {
            "text/plain": [
              "True"
            ]
          },
          "metadata": {},
          "execution_count": 67
        }
      ]
    },
    {
      "cell_type": "code",
      "source": [
        "stp.stopword_forms(u'على')[:10]"
      ],
      "metadata": {
        "colab": {
          "base_uri": "https://localhost:8080/"
        },
        "id": "q7x3WxsUejzh",
        "outputId": "5d25a27b-66f5-4cf4-9ce6-ec06303eb846"
      },
      "execution_count": null,
      "outputs": [
        {
          "output_type": "execute_result",
          "data": {
            "text/plain": [
              "['وعليها',\n",
              " 'ولعليه',\n",
              " 'ألعلى',\n",
              " 'فلعليهن',\n",
              " 'أفلعلى',\n",
              " 'عليه',\n",
              " 'عليهما',\n",
              " 'أعلينا',\n",
              " 'أولعلينا',\n",
              " 'أفعليهم']"
            ]
          },
          "metadata": {},
          "execution_count": 70
        }
      ]
    }
  ]
}